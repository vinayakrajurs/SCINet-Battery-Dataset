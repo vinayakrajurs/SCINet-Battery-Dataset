{
  "nbformat": 4,
  "nbformat_minor": 0,
  "metadata": {
    "colab": {
      "name": "SCINet.ipynb",
      "provenance": [],
      "collapsed_sections": [],
      "mount_file_id": "1tr9Xj_i3D3LDAWYPR9gmN74rWErTbdxv",
      "authorship_tag": "ABX9TyPMzezRVBfOp1lm3S+wp+MT",
      "include_colab_link": true
    },
    "kernelspec": {
      "name": "python3",
      "display_name": "Python 3"
    },
    "language_info": {
      "name": "python"
    },
    "accelerator": "GPU"
  },
  "cells": [
    {
      "cell_type": "markdown",
      "metadata": {
        "id": "view-in-github",
        "colab_type": "text"
      },
      "source": [
        "<a href=\"https://colab.research.google.com/github/vinayakrajurs/Sample-Convolution-Interaction-Syntheic-Data/blob/main/SCINet.ipynb\" target=\"_parent\"><img src=\"https://colab.research.google.com/assets/colab-badge.svg\" alt=\"Open In Colab\"/></a>"
      ]
    },
    {
      "cell_type": "markdown",
      "source": [
        "#**Synthetic Data Generation using Resilient Sample Convolution and Interactive Learning Approach**"
      ],
      "metadata": {
        "id": "CVAGOWv_paEu"
      }
    },
    {
      "cell_type": "markdown",
      "source": [
        "### **1. Mounting Drive**\n",
        "\n",
        "1. Download the zip code from github\n",
        "\n",
        "2. Upload the downloaded file to your drive and open the file using Zip extractor\n",
        "\n",
        "3. Extract all the files in the drive\n",
        "\n",
        "4. Mount the Drive by running the cell and copy-pasting the code and press Enter"
      ],
      "metadata": {
        "id": "JF4QzWUlp153"
      }
    },
    {
      "cell_type": "code",
      "execution_count": null,
      "metadata": {
        "colab": {
          "base_uri": "https://localhost:8080/"
        },
        "id": "SaprfJJKV3KL",
        "outputId": "06059baf-53d7-4148-b4d7-201243a6d692"
      },
      "outputs": [
        {
          "output_type": "stream",
          "name": "stdout",
          "text": [
            "Drive already mounted at /content/drive; to attempt to forcibly remount, call drive.mount(\"/content/drive\", force_remount=True).\n"
          ]
        }
      ],
      "source": [
        "from google.colab import drive\n",
        "drive.mount('/content/drive')"
      ]
    },
    {
      "cell_type": "markdown",
      "source": [
        "### **2. Changing Directory path**"
      ],
      "metadata": {
        "id": "lAaq8V99p4i3"
      }
    },
    {
      "cell_type": "markdown",
      "source": [
        "###### **Steps To Follow**\n",
        "\n",
        "1. Once the drive has been mounted, go to the folder icon visible on the left hand side.\n",
        "\n",
        "2. Click on the drive folder.\n",
        "\n",
        "3. There find the folder containing the run_main_SCINet.py file.\n",
        "\n",
        "4. Right click on the folder and click on the folder and select the copy path option.\n",
        "\n",
        "5. Make sure to copy and paste the path of the folder containing the run_ETTh_10.py file in the code below. \n",
        "\n",
        "6. Paste the file path after %cd"
      ],
      "metadata": {
        "id": "YXyfumU6p7vg"
      }
    },
    {
      "cell_type": "code",
      "source": [
        "%cd /content/drive/MyDrive/SCINET\n",
        "!ls"
      ],
      "metadata": {
        "colab": {
          "base_uri": "https://localhost:8080/"
        },
        "id": "KDj9z5PwV8yq",
        "outputId": "aa28f02b-7837-494a-d255-8aa39359dd43"
      },
      "execution_count": null,
      "outputs": [
        {
          "output_type": "stream",
          "name": "stdout",
          "text": [
            "/content/drive/MyDrive/SCINET\n",
            "data\t      data_process  exp\t\t models\t\t utils\n",
            "data_old.pkl  datasets\t    experiments  out.pkl\n",
            "data.pkl      event\t    metrics\t run_ETTh_10.py\n"
          ]
        }
      ]
    },
    {
      "cell_type": "markdown",
      "source": [
        "### **3. Running the Main code**\n",
        "\n",
        "1. All changes to the Prediction Length, epochs, dataset, etc can be made in the run_main_SCINet.py file\n",
        "2. Insertion of a new dataset must be done in the datasets folder as well as adding it in the dataparser in the run_main_SCINet.py file.\n",
        "3. You may make changes in the dataset used in run_main_SCINet.py and target to be run\n",
        "4. In run_main_SCINet.py L51, Must be set to True inorder to form the test results after training\n",
        "5. In Experiments folder exp_ETTh.py file's L284 must also be set for True apply the model for Test data"
      ],
      "metadata": {
        "id": "5_5hcdNkqDxA"
      }
    },
    {
      "cell_type": "code",
      "source": [
        "!python run_main_SCINet.py --data dataset4 --features S  --seq_len 48 --label_len 24 --pred_len 48 --hidden-size 4 --stacks 1 --levels 3 --lr 0.005 --batch_size 32 --dropout 0.5 --model_name mendeley_S_I48_O24_lr7e-3_bs16_dp0.25_h8_s1l3"
      ],
      "metadata": {
        "colab": {
          "base_uri": "https://localhost:8080/"
        },
        "id": "rQZ91Uft7DaY",
        "outputId": "7c2a8de9-fda4-458d-ff91-b176f027649e"
      },
      "execution_count": null,
      "outputs": [
        {
          "output_type": "stream",
          "name": "stdout",
          "text": [
            "Args in experiment:\n",
            "Namespace(INN=1, RIN=False, batch_size=32, checkpoints='exp/ETT_checkpoints/', cols=None, concat_len=0, data='dataset4', data_path='trial.csv', detail_freq='s', devices='0', dilation=1, dropout=0.5, embed='timeF', evaluate=False, features='S', freq='s', gpu=0, groups=1, hidden_size=4.0, inverse=True, itr=0, kernel=5, label_len=24, lastWeight=1.0, levels=3, loss='mae', lr=0.005, lradj=1, model='SCINet', model_name='mendeley_S_I48_O24_lr7e-3_bs16_dp0.25_h8_s1l3', num_decoder_layer=1, num_workers=0, patience=5, positionalEcoding=False, pred_len=48, resume=False, root_path='./datasets/', save=False, seq_len=48, single_step=0, single_step_output_One=0, stacks=1, target='Current', train_epochs=6, use_amp=False, use_gpu=True, use_multi_gpu=False, window_size=12)\n",
            "SCINet(\n",
            "  (blocks1): EncoderTree(\n",
            "    (SCINet_Tree): SCINet_Tree(\n",
            "      (workingblock): LevelSCINet(\n",
            "        (interact): InteractorLevel(\n",
            "          (level): Interactor(\n",
            "            (split): Splitting()\n",
            "            (phi): Sequential(\n",
            "              (0): ReplicationPad1d((3, 3))\n",
            "              (1): Conv1d(1, 4, kernel_size=(5,), stride=(1,))\n",
            "              (2): LeakyReLU(negative_slope=0.01, inplace=True)\n",
            "              (3): Dropout(p=0.5, inplace=False)\n",
            "              (4): Conv1d(4, 1, kernel_size=(3,), stride=(1,))\n",
            "              (5): Tanh()\n",
            "            )\n",
            "            (psi): Sequential(\n",
            "              (0): ReplicationPad1d((3, 3))\n",
            "              (1): Conv1d(1, 4, kernel_size=(5,), stride=(1,))\n",
            "              (2): LeakyReLU(negative_slope=0.01, inplace=True)\n",
            "              (3): Dropout(p=0.5, inplace=False)\n",
            "              (4): Conv1d(4, 1, kernel_size=(3,), stride=(1,))\n",
            "              (5): Tanh()\n",
            "            )\n",
            "            (P): Sequential(\n",
            "              (0): ReplicationPad1d((3, 3))\n",
            "              (1): Conv1d(1, 4, kernel_size=(5,), stride=(1,))\n",
            "              (2): LeakyReLU(negative_slope=0.01, inplace=True)\n",
            "              (3): Dropout(p=0.5, inplace=False)\n",
            "              (4): Conv1d(4, 1, kernel_size=(3,), stride=(1,))\n",
            "              (5): Tanh()\n",
            "            )\n",
            "            (U): Sequential(\n",
            "              (0): ReplicationPad1d((3, 3))\n",
            "              (1): Conv1d(1, 4, kernel_size=(5,), stride=(1,))\n",
            "              (2): LeakyReLU(negative_slope=0.01, inplace=True)\n",
            "              (3): Dropout(p=0.5, inplace=False)\n",
            "              (4): Conv1d(4, 1, kernel_size=(3,), stride=(1,))\n",
            "              (5): Tanh()\n",
            "            )\n",
            "          )\n",
            "        )\n",
            "      )\n",
            "      (SCINet_Tree_odd): SCINet_Tree(\n",
            "        (workingblock): LevelSCINet(\n",
            "          (interact): InteractorLevel(\n",
            "            (level): Interactor(\n",
            "              (split): Splitting()\n",
            "              (phi): Sequential(\n",
            "                (0): ReplicationPad1d((3, 3))\n",
            "                (1): Conv1d(1, 4, kernel_size=(5,), stride=(1,))\n",
            "                (2): LeakyReLU(negative_slope=0.01, inplace=True)\n",
            "                (3): Dropout(p=0.5, inplace=False)\n",
            "                (4): Conv1d(4, 1, kernel_size=(3,), stride=(1,))\n",
            "                (5): Tanh()\n",
            "              )\n",
            "              (psi): Sequential(\n",
            "                (0): ReplicationPad1d((3, 3))\n",
            "                (1): Conv1d(1, 4, kernel_size=(5,), stride=(1,))\n",
            "                (2): LeakyReLU(negative_slope=0.01, inplace=True)\n",
            "                (3): Dropout(p=0.5, inplace=False)\n",
            "                (4): Conv1d(4, 1, kernel_size=(3,), stride=(1,))\n",
            "                (5): Tanh()\n",
            "              )\n",
            "              (P): Sequential(\n",
            "                (0): ReplicationPad1d((3, 3))\n",
            "                (1): Conv1d(1, 4, kernel_size=(5,), stride=(1,))\n",
            "                (2): LeakyReLU(negative_slope=0.01, inplace=True)\n",
            "                (3): Dropout(p=0.5, inplace=False)\n",
            "                (4): Conv1d(4, 1, kernel_size=(3,), stride=(1,))\n",
            "                (5): Tanh()\n",
            "              )\n",
            "              (U): Sequential(\n",
            "                (0): ReplicationPad1d((3, 3))\n",
            "                (1): Conv1d(1, 4, kernel_size=(5,), stride=(1,))\n",
            "                (2): LeakyReLU(negative_slope=0.01, inplace=True)\n",
            "                (3): Dropout(p=0.5, inplace=False)\n",
            "                (4): Conv1d(4, 1, kernel_size=(3,), stride=(1,))\n",
            "                (5): Tanh()\n",
            "              )\n",
            "            )\n",
            "          )\n",
            "        )\n",
            "        (SCINet_Tree_odd): SCINet_Tree(\n",
            "          (workingblock): LevelSCINet(\n",
            "            (interact): InteractorLevel(\n",
            "              (level): Interactor(\n",
            "                (split): Splitting()\n",
            "                (phi): Sequential(\n",
            "                  (0): ReplicationPad1d((3, 3))\n",
            "                  (1): Conv1d(1, 4, kernel_size=(5,), stride=(1,))\n",
            "                  (2): LeakyReLU(negative_slope=0.01, inplace=True)\n",
            "                  (3): Dropout(p=0.5, inplace=False)\n",
            "                  (4): Conv1d(4, 1, kernel_size=(3,), stride=(1,))\n",
            "                  (5): Tanh()\n",
            "                )\n",
            "                (psi): Sequential(\n",
            "                  (0): ReplicationPad1d((3, 3))\n",
            "                  (1): Conv1d(1, 4, kernel_size=(5,), stride=(1,))\n",
            "                  (2): LeakyReLU(negative_slope=0.01, inplace=True)\n",
            "                  (3): Dropout(p=0.5, inplace=False)\n",
            "                  (4): Conv1d(4, 1, kernel_size=(3,), stride=(1,))\n",
            "                  (5): Tanh()\n",
            "                )\n",
            "                (P): Sequential(\n",
            "                  (0): ReplicationPad1d((3, 3))\n",
            "                  (1): Conv1d(1, 4, kernel_size=(5,), stride=(1,))\n",
            "                  (2): LeakyReLU(negative_slope=0.01, inplace=True)\n",
            "                  (3): Dropout(p=0.5, inplace=False)\n",
            "                  (4): Conv1d(4, 1, kernel_size=(3,), stride=(1,))\n",
            "                  (5): Tanh()\n",
            "                )\n",
            "                (U): Sequential(\n",
            "                  (0): ReplicationPad1d((3, 3))\n",
            "                  (1): Conv1d(1, 4, kernel_size=(5,), stride=(1,))\n",
            "                  (2): LeakyReLU(negative_slope=0.01, inplace=True)\n",
            "                  (3): Dropout(p=0.5, inplace=False)\n",
            "                  (4): Conv1d(4, 1, kernel_size=(3,), stride=(1,))\n",
            "                  (5): Tanh()\n",
            "                )\n",
            "              )\n",
            "            )\n",
            "          )\n",
            "        )\n",
            "        (SCINet_Tree_even): SCINet_Tree(\n",
            "          (workingblock): LevelSCINet(\n",
            "            (interact): InteractorLevel(\n",
            "              (level): Interactor(\n",
            "                (split): Splitting()\n",
            "                (phi): Sequential(\n",
            "                  (0): ReplicationPad1d((3, 3))\n",
            "                  (1): Conv1d(1, 4, kernel_size=(5,), stride=(1,))\n",
            "                  (2): LeakyReLU(negative_slope=0.01, inplace=True)\n",
            "                  (3): Dropout(p=0.5, inplace=False)\n",
            "                  (4): Conv1d(4, 1, kernel_size=(3,), stride=(1,))\n",
            "                  (5): Tanh()\n",
            "                )\n",
            "                (psi): Sequential(\n",
            "                  (0): ReplicationPad1d((3, 3))\n",
            "                  (1): Conv1d(1, 4, kernel_size=(5,), stride=(1,))\n",
            "                  (2): LeakyReLU(negative_slope=0.01, inplace=True)\n",
            "                  (3): Dropout(p=0.5, inplace=False)\n",
            "                  (4): Conv1d(4, 1, kernel_size=(3,), stride=(1,))\n",
            "                  (5): Tanh()\n",
            "                )\n",
            "                (P): Sequential(\n",
            "                  (0): ReplicationPad1d((3, 3))\n",
            "                  (1): Conv1d(1, 4, kernel_size=(5,), stride=(1,))\n",
            "                  (2): LeakyReLU(negative_slope=0.01, inplace=True)\n",
            "                  (3): Dropout(p=0.5, inplace=False)\n",
            "                  (4): Conv1d(4, 1, kernel_size=(3,), stride=(1,))\n",
            "                  (5): Tanh()\n",
            "                )\n",
            "                (U): Sequential(\n",
            "                  (0): ReplicationPad1d((3, 3))\n",
            "                  (1): Conv1d(1, 4, kernel_size=(5,), stride=(1,))\n",
            "                  (2): LeakyReLU(negative_slope=0.01, inplace=True)\n",
            "                  (3): Dropout(p=0.5, inplace=False)\n",
            "                  (4): Conv1d(4, 1, kernel_size=(3,), stride=(1,))\n",
            "                  (5): Tanh()\n",
            "                )\n",
            "              )\n",
            "            )\n",
            "          )\n",
            "        )\n",
            "      )\n",
            "      (SCINet_Tree_even): SCINet_Tree(\n",
            "        (workingblock): LevelSCINet(\n",
            "          (interact): InteractorLevel(\n",
            "            (level): Interactor(\n",
            "              (split): Splitting()\n",
            "              (phi): Sequential(\n",
            "                (0): ReplicationPad1d((3, 3))\n",
            "                (1): Conv1d(1, 4, kernel_size=(5,), stride=(1,))\n",
            "                (2): LeakyReLU(negative_slope=0.01, inplace=True)\n",
            "                (3): Dropout(p=0.5, inplace=False)\n",
            "                (4): Conv1d(4, 1, kernel_size=(3,), stride=(1,))\n",
            "                (5): Tanh()\n",
            "              )\n",
            "              (psi): Sequential(\n",
            "                (0): ReplicationPad1d((3, 3))\n",
            "                (1): Conv1d(1, 4, kernel_size=(5,), stride=(1,))\n",
            "                (2): LeakyReLU(negative_slope=0.01, inplace=True)\n",
            "                (3): Dropout(p=0.5, inplace=False)\n",
            "                (4): Conv1d(4, 1, kernel_size=(3,), stride=(1,))\n",
            "                (5): Tanh()\n",
            "              )\n",
            "              (P): Sequential(\n",
            "                (0): ReplicationPad1d((3, 3))\n",
            "                (1): Conv1d(1, 4, kernel_size=(5,), stride=(1,))\n",
            "                (2): LeakyReLU(negative_slope=0.01, inplace=True)\n",
            "                (3): Dropout(p=0.5, inplace=False)\n",
            "                (4): Conv1d(4, 1, kernel_size=(3,), stride=(1,))\n",
            "                (5): Tanh()\n",
            "              )\n",
            "              (U): Sequential(\n",
            "                (0): ReplicationPad1d((3, 3))\n",
            "                (1): Conv1d(1, 4, kernel_size=(5,), stride=(1,))\n",
            "                (2): LeakyReLU(negative_slope=0.01, inplace=True)\n",
            "                (3): Dropout(p=0.5, inplace=False)\n",
            "                (4): Conv1d(4, 1, kernel_size=(3,), stride=(1,))\n",
            "                (5): Tanh()\n",
            "              )\n",
            "            )\n",
            "          )\n",
            "        )\n",
            "        (SCINet_Tree_odd): SCINet_Tree(\n",
            "          (workingblock): LevelSCINet(\n",
            "            (interact): InteractorLevel(\n",
            "              (level): Interactor(\n",
            "                (split): Splitting()\n",
            "                (phi): Sequential(\n",
            "                  (0): ReplicationPad1d((3, 3))\n",
            "                  (1): Conv1d(1, 4, kernel_size=(5,), stride=(1,))\n",
            "                  (2): LeakyReLU(negative_slope=0.01, inplace=True)\n",
            "                  (3): Dropout(p=0.5, inplace=False)\n",
            "                  (4): Conv1d(4, 1, kernel_size=(3,), stride=(1,))\n",
            "                  (5): Tanh()\n",
            "                )\n",
            "                (psi): Sequential(\n",
            "                  (0): ReplicationPad1d((3, 3))\n",
            "                  (1): Conv1d(1, 4, kernel_size=(5,), stride=(1,))\n",
            "                  (2): LeakyReLU(negative_slope=0.01, inplace=True)\n",
            "                  (3): Dropout(p=0.5, inplace=False)\n",
            "                  (4): Conv1d(4, 1, kernel_size=(3,), stride=(1,))\n",
            "                  (5): Tanh()\n",
            "                )\n",
            "                (P): Sequential(\n",
            "                  (0): ReplicationPad1d((3, 3))\n",
            "                  (1): Conv1d(1, 4, kernel_size=(5,), stride=(1,))\n",
            "                  (2): LeakyReLU(negative_slope=0.01, inplace=True)\n",
            "                  (3): Dropout(p=0.5, inplace=False)\n",
            "                  (4): Conv1d(4, 1, kernel_size=(3,), stride=(1,))\n",
            "                  (5): Tanh()\n",
            "                )\n",
            "                (U): Sequential(\n",
            "                  (0): ReplicationPad1d((3, 3))\n",
            "                  (1): Conv1d(1, 4, kernel_size=(5,), stride=(1,))\n",
            "                  (2): LeakyReLU(negative_slope=0.01, inplace=True)\n",
            "                  (3): Dropout(p=0.5, inplace=False)\n",
            "                  (4): Conv1d(4, 1, kernel_size=(3,), stride=(1,))\n",
            "                  (5): Tanh()\n",
            "                )\n",
            "              )\n",
            "            )\n",
            "          )\n",
            "        )\n",
            "        (SCINet_Tree_even): SCINet_Tree(\n",
            "          (workingblock): LevelSCINet(\n",
            "            (interact): InteractorLevel(\n",
            "              (level): Interactor(\n",
            "                (split): Splitting()\n",
            "                (phi): Sequential(\n",
            "                  (0): ReplicationPad1d((3, 3))\n",
            "                  (1): Conv1d(1, 4, kernel_size=(5,), stride=(1,))\n",
            "                  (2): LeakyReLU(negative_slope=0.01, inplace=True)\n",
            "                  (3): Dropout(p=0.5, inplace=False)\n",
            "                  (4): Conv1d(4, 1, kernel_size=(3,), stride=(1,))\n",
            "                  (5): Tanh()\n",
            "                )\n",
            "                (psi): Sequential(\n",
            "                  (0): ReplicationPad1d((3, 3))\n",
            "                  (1): Conv1d(1, 4, kernel_size=(5,), stride=(1,))\n",
            "                  (2): LeakyReLU(negative_slope=0.01, inplace=True)\n",
            "                  (3): Dropout(p=0.5, inplace=False)\n",
            "                  (4): Conv1d(4, 1, kernel_size=(3,), stride=(1,))\n",
            "                  (5): Tanh()\n",
            "                )\n",
            "                (P): Sequential(\n",
            "                  (0): ReplicationPad1d((3, 3))\n",
            "                  (1): Conv1d(1, 4, kernel_size=(5,), stride=(1,))\n",
            "                  (2): LeakyReLU(negative_slope=0.01, inplace=True)\n",
            "                  (3): Dropout(p=0.5, inplace=False)\n",
            "                  (4): Conv1d(4, 1, kernel_size=(3,), stride=(1,))\n",
            "                  (5): Tanh()\n",
            "                )\n",
            "                (U): Sequential(\n",
            "                  (0): ReplicationPad1d((3, 3))\n",
            "                  (1): Conv1d(1, 4, kernel_size=(5,), stride=(1,))\n",
            "                  (2): LeakyReLU(negative_slope=0.01, inplace=True)\n",
            "                  (3): Dropout(p=0.5, inplace=False)\n",
            "                  (4): Conv1d(4, 1, kernel_size=(3,), stride=(1,))\n",
            "                  (5): Tanh()\n",
            "                )\n",
            "              )\n",
            "            )\n",
            "          )\n",
            "        )\n",
            "      )\n",
            "    )\n",
            "  )\n",
            "  (projection1): Conv1d(48, 48, kernel_size=(1,), stride=(1,), bias=False)\n",
            "  (div_projection): ModuleList()\n",
            ")\n",
            ">>>>>>>start training : SCINet_dataset4_ftS_sl48_ll24_pl48_lr0.005_bs32_hid4.0_s1_l3_dp0.5_invTrue_itr0>>>>>>>>>>>>>>>>>>>>>>>>>>\n",
            "train 1084\n",
            "val 122\n",
            "test 290\n",
            "exp/ETT_checkpoints/SCINet_dataset4_ftS_sl48_ll24_pl48_lr0.005_bs32_hid4.0_s1_l3_dp0.5_invTrue_itr0\n",
            "Epoch: 1 cost time: 2.3381965160369873\n",
            "--------start to validate-----------\n",
            "normed mse:2.5450, mae:0.9569, rmse:1.5953, mape:inf, mspe:inf, corr:0.9033\n",
            "denormed mse:21.2952, mae:2.7679, rmse:4.6147, mape:8.4578, mspe:580.8093, corr:0.9033\n",
            "--------start to test-----------\n",
            "normed mse:2.8377, mae:1.0283, rmse:1.6845, mape:inf, mspe:inf, corr:0.8773\n",
            "denormed mse:23.7440, mae:2.9744, rmse:4.8728, mape:9.1121, mspe:727.1159, corr:0.8773\n",
            "Epoch: 1, Steps: 33 | Train Loss: 1.4940274 valid Loss: 0.9568857 Test Loss: 1.0282630\n",
            "Validation loss decreased (inf --> 0.956886).  Saving model ...\n",
            "Updating learning rate to 0.00475\n",
            "Epoch: 2 cost time: 1.8980207443237305\n",
            "--------start to validate-----------\n",
            "normed mse:1.0450, mae:0.6139, rmse:1.0223, mape:inf, mspe:inf, corr:0.9440\n",
            "denormed mse:8.7443, mae:1.7757, rmse:2.9571, mape:11.8828, mspe:1188.2068, corr:0.9440\n",
            "--------start to test-----------\n",
            "normed mse:1.6520, mae:0.7490, rmse:1.2853, mape:inf, mspe:inf, corr:0.9064\n",
            "denormed mse:13.8230, mae:2.1666, rmse:3.7179, mape:13.7350, mspe:1753.5410, corr:0.9064\n",
            "Epoch: 2, Steps: 33 | Train Loss: 0.9122248 valid Loss: 0.6138648 Test Loss: 0.7490105\n",
            "Validation loss decreased (0.956886 --> 0.613865).  Saving model ...\n",
            "Updating learning rate to 0.0045125\n",
            "Epoch: 3 cost time: 1.9253370761871338\n",
            "--------start to validate-----------\n",
            "normed mse:0.7611, mae:0.4846, rmse:0.8724, mape:inf, mspe:inf, corr:0.9574\n",
            "denormed mse:6.3687, mae:1.4016, rmse:2.5236, mape:11.1023, mspe:1080.7044, corr:0.9574\n",
            "--------start to test-----------\n",
            "normed mse:1.5089, mae:0.6359, rmse:1.2284, mape:inf, mspe:inf, corr:0.9121\n",
            "denormed mse:12.6257, mae:1.8394, rmse:3.5533, mape:13.4251, mspe:1850.5259, corr:0.9121\n",
            "Epoch: 3, Steps: 33 | Train Loss: 0.7213122 valid Loss: 0.4845517 Test Loss: 0.6359011\n",
            "Validation loss decreased (0.613865 --> 0.484552).  Saving model ...\n",
            "Updating learning rate to 0.004286875\n",
            "Epoch: 4 cost time: 1.9118764400482178\n",
            "--------start to validate-----------\n",
            "normed mse:0.6121, mae:0.4183, rmse:0.7823, mape:inf, mspe:inf, corr:0.9648\n",
            "denormed mse:5.1214, mae:1.2100, rmse:2.2631, mape:9.7807, mspe:891.0023, corr:0.9648\n",
            "--------start to test-----------\n",
            "normed mse:1.4419, mae:0.5915, rmse:1.2008, mape:inf, mspe:inf, corr:0.9167\n",
            "denormed mse:12.0650, mae:1.7111, rmse:3.4735, mape:12.4915, mspe:1762.3497, corr:0.9167\n",
            "Epoch: 4, Steps: 33 | Train Loss: 0.6374735 valid Loss: 0.4183013 Test Loss: 0.5915150\n",
            "Validation loss decreased (0.484552 --> 0.418301).  Saving model ...\n",
            "Updating learning rate to 0.00407253125\n",
            "Epoch: 5 cost time: 1.9832079410552979\n",
            "--------start to validate-----------\n",
            "normed mse:0.5085, mae:0.3765, rmse:0.7131, mape:inf, mspe:inf, corr:0.9709\n",
            "denormed mse:4.2551, mae:1.0891, rmse:2.0628, mape:8.4155, mspe:698.6454, corr:0.9709\n",
            "--------start to test-----------\n",
            "normed mse:1.3691, mae:0.5478, rmse:1.1701, mape:inf, mspe:inf, corr:0.9206\n",
            "denormed mse:11.4561, mae:1.5846, rmse:3.3847, mape:11.1878, mspe:1576.4513, corr:0.9206\n",
            "Epoch: 5, Steps: 33 | Train Loss: 0.5821642 valid Loss: 0.3765185 Test Loss: 0.5478162\n",
            "Validation loss decreased (0.418301 --> 0.376519).  Saving model ...\n",
            "Updating learning rate to 0.003868904687499999\n",
            "Epoch: 6 cost time: 1.9037954807281494\n",
            "--------start to validate-----------\n",
            "normed mse:0.4181, mae:0.3273, rmse:0.6466, mape:inf, mspe:inf, corr:0.9763\n",
            "denormed mse:3.4987, mae:0.9467, rmse:1.8705, mape:7.1950, mspe:566.6265, corr:0.9763\n",
            "--------start to test-----------\n",
            "normed mse:1.3421, mae:0.5194, rmse:1.1585, mape:inf, mspe:inf, corr:0.9226\n",
            "denormed mse:11.2304, mae:1.5023, rmse:3.3512, mape:10.3334, mspe:1507.3962, corr:0.9226\n",
            "Epoch: 6, Steps: 33 | Train Loss: 0.5455934 valid Loss: 0.3272904 Test Loss: 0.5193501\n",
            "Validation loss decreased (0.376519 --> 0.327290).  Saving model ...\n",
            "Updating learning rate to 0.003675459453124999\n",
            "save model in  exp/ETT_checkpoints/SCINet_dataset4_ftS_sl48_ll24_pl48_lr0.005_bs32_hid4.0_s1_l3_dp0.5_invTrue_itr0/dataset448.bin\n",
            ">>>>>>>testing : SCINet_dataset4_ftS_sl48_ll24_pl48_lr0.005_bs32_hid4.0_s1_l3_dp0.5_invTrue_itr0<<<<<<<<<<<<<<<<<<<<<<<<<<<<<<<<<\n",
            "test 290\n",
            "normed mse:1.3421, mae:0.5194, rmse:1.1585, mape:inf, mspe:inf, corr:0.9226\n",
            "TTTT denormed mse:11.2304, mae:1.5023, rmse:3.3512, mape:10.3334, mspe:1507.3962, corr:0.9226\n",
            "Final mean normed mse:1.3421,mae:0.5194,denormed mse:11.2304,mae:1.5023\n"
          ]
        }
      ]
    },
    {
      "cell_type": "markdown",
      "source": [
        "### **4. Results**"
      ],
      "metadata": {
        "id": "tluEF2V5qfKQ"
      }
    },
    {
      "cell_type": "markdown",
      "source": [
        "##### **Changing Directory path**\n",
        "\n",
        "1. Once the code is run, a results folder will be created in the same folder which contains run_main_SCINet.py file.\n",
        "\n",
        "2. Copy the path of the folders and paste it in the code below.\n",
        "             \n",
        "3. %cd /content/drive/MyDrive/SCINET/exp/ett_results/SCINet_dataset4_ftS_sl48_ll24_pl24_lr0.005_bs32_hid4.0_s1_l3_dp0.5_invTrue_itr01\n",
        "\n",
        "4. The folder addres in which the result is stored will be printed while running the run_main_SCINet.py code in the cell above\n"
      ],
      "metadata": {
        "id": "cXi1Cyy5qiBg"
      }
    },
    {
      "cell_type": "code",
      "source": [
        "%cd /content/drive/MyDrive/SCINET/exp/ett_results/SCINet_dataset4_ftS_sl48_ll24_pl24_lr0.005_bs32_hid4.0_s1_l3_dp0.5_invTrue_itr0\n",
        "!ls"
      ],
      "metadata": {
        "colab": {
          "base_uri": "https://localhost:8080/"
        },
        "id": "Ks0rwXihvY-U",
        "outputId": "199c9739-584b-4ad5-ae1f-e92ab0a57c61"
      },
      "execution_count": null,
      "outputs": [
        {
          "output_type": "stream",
          "name": "stdout",
          "text": [
            "/content/drive/MyDrive/SCINET/exp/ett_results/SCINet_dataset4_ftS_sl48_ll24_pl24_lr0.005_bs32_hid4.0_s1_l3_dp0.5_invTrue_itr0\n",
            "metrics.npy\n",
            "pred.npy\n",
            "pred_scales.npy\n",
            "SCINet_dataset4_Charge_Capacity_pred_len_24.pdf\n",
            "SCINet_dataset4_Current_pred_len_24.pdf\n",
            "SCINet_dataset4_Voltage_pred_len_24_6_epoch.pdf\n",
            "SCINet_dataset4_Voltage_pred_len_24.pdf\n",
            "SCINet_mendeley_Charge_Capacity_pred_len_24.pdf\n",
            "SCINet_mendeley_Current_pred_len_24.pdf\n",
            "SCINet_mendeley_Voltage_pred_len_24.pdf\n",
            "SCINet_trails_Current_pred_len_24.pdf\n",
            "SCINet_trails_Voltage_pred_len_24.pdf\n",
            "true.npy\n",
            "true_scales.npy\n"
          ]
        }
      ]
    },
    {
      "cell_type": "markdown",
      "source": [
        "##### **4 a. True and Prediction values**\n",
        "\n",
        "1. When we finished exp.train(setting) and exp.test(setting), we will get a trained model and the results of test experiment\n",
        "\n",
        "2. The results of test experiment will be saved in ./content/drive/MyDrive/SCINET/exp/ett_results/SCINet_dataset4_ftS_sl48_ll24_pl24_lr0.005_bs32_hid4.0_s1_l3_dp0.5_invTrue_itr0"
      ],
      "metadata": {
        "id": "S8rsHVPUrDCU"
      }
    },
    {
      "cell_type": "code",
      "source": [
        "import numpy as np\n",
        "preds = np.load('pred.npy')\n",
        "trues = np.load('true.npy')\n",
        "# [samples, pred_len, dimensions]\n",
        "import matplotlib.pyplot as plt\n",
        "import seaborn as sns"
      ],
      "metadata": {
        "id": "bcYyWkQ0vZJd"
      },
      "execution_count": null,
      "outputs": []
    },
    {
      "cell_type": "markdown",
      "source": [
        "##### **4 b. Matplotlib to plot the results**\n",
        "\n",
        "1. You can remove the # from .savefig and .download to save and download the plot in pdf format on your local PC "
      ],
      "metadata": {
        "id": "p-jhS38zrSbX"
      }
    },
    {
      "cell_type": "code",
      "source": [
        "import matplotlib.pyplot as plt\n",
        "plt.figure()\n",
        "plt.plot (trues[:,1,-1], label='GroundTruth')\n",
        "plt.plot (preds[:,1,-1], label='Prediction')\n",
        "plt.legend(loc='upper right');\n",
        "plt.xlabel('Index')\n",
        "plt.ylabel('Charge Capacity (Ah)')\n",
        "plt.yticks(np.arange(-.4, 2, .4))\n",
        "from google.colab import files\n",
        "#plt.savefig('SCINet_trails_Charge_Capacity_pred_len_24.pdf')\n",
        "#files.download('SCINet_trails_Charge_Capacity_pred_len_24.pdf')\n",
        "plt.show()"
      ],
      "metadata": {
        "colab": {
          "base_uri": "https://localhost:8080/",
          "height": 283
        },
        "id": "_9O-K_ulctQC",
        "outputId": "6c8cd65c-e1f1-4ace-cfeb-e5e295552987"
      },
      "execution_count": null,
      "outputs": [
        {
          "output_type": "display_data",
          "data": {
            "text/plain": [
              "<IPython.core.display.Javascript object>"
            ],
            "application/javascript": [
              "\n",
              "    async function download(id, filename, size) {\n",
              "      if (!google.colab.kernel.accessAllowed) {\n",
              "        return;\n",
              "      }\n",
              "      const div = document.createElement('div');\n",
              "      const label = document.createElement('label');\n",
              "      label.textContent = `Downloading \"${filename}\": `;\n",
              "      div.appendChild(label);\n",
              "      const progress = document.createElement('progress');\n",
              "      progress.max = size;\n",
              "      div.appendChild(progress);\n",
              "      document.body.appendChild(div);\n",
              "\n",
              "      const buffers = [];\n",
              "      let downloaded = 0;\n",
              "\n",
              "      const channel = await google.colab.kernel.comms.open(id);\n",
              "      // Send a message to notify the kernel that we're ready.\n",
              "      channel.send({})\n",
              "\n",
              "      for await (const message of channel.messages) {\n",
              "        // Send a message to notify the kernel that we're ready.\n",
              "        channel.send({})\n",
              "        if (message.buffers) {\n",
              "          for (const buffer of message.buffers) {\n",
              "            buffers.push(buffer);\n",
              "            downloaded += buffer.byteLength;\n",
              "            progress.value = downloaded;\n",
              "          }\n",
              "        }\n",
              "      }\n",
              "      const blob = new Blob(buffers, {type: 'application/binary'});\n",
              "      const a = document.createElement('a');\n",
              "      a.href = window.URL.createObjectURL(blob);\n",
              "      a.download = filename;\n",
              "      div.appendChild(a);\n",
              "      a.click();\n",
              "      div.remove();\n",
              "    }\n",
              "  "
            ]
          },
          "metadata": {}
        },
        {
          "output_type": "display_data",
          "data": {
            "text/plain": [
              "<IPython.core.display.Javascript object>"
            ],
            "application/javascript": [
              "download(\"download_ddbdf24a-c2a6-472f-b851-1150a0d3878d\", \"SCINet_trails_Charge_Capacity_pred_len_24.pdf\", 18057)"
            ]
          },
          "metadata": {}
        },
        {
          "output_type": "display_data",
          "data": {
            "text/plain": [
              "<Figure size 432x288 with 1 Axes>"
            ],
            "image/png": "[encoded data removed]"
          },
          "metadata": {
            "needs_background": "light"
          }
        }
      ]
    },
    {
      "cell_type": "markdown",
      "source": [
        "END"
      ],
      "metadata": {
        "id": "G7_Z5q0SrU__"
      }
    }
  ]
}